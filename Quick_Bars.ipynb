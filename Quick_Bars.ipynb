{
 "cells": [
  {
   "cell_type": "code",
   "execution_count": 1,
   "metadata": {},
   "outputs": [],
   "source": [
    "import os\n",
    "\n",
    "import pandas as pd\n",
    "import numpy as np\n",
    "import matplotlib.pyplot as plt"
   ]
  },
  {
   "cell_type": "code",
   "execution_count": 2,
   "metadata": {},
   "outputs": [
    {
     "name": "stdout",
     "output_type": "stream",
     "text": [
      "C:\\Users\\Overlord\\Documents\\Data_and_Projects\\Anna_Grad_Project\n"
     ]
    }
   ],
   "source": [
    "cwd= os.getcwd()\n",
    "print(cwd)\n",
    "\n",
    "plot_path= os.path.join(cwd,\"plots\")"
   ]
  },
  {
   "cell_type": "code",
   "execution_count": 13,
   "metadata": {},
   "outputs": [],
   "source": [
    "font_dict= {\n",
    "    'loc': \"left\",\n",
    "    'fontname': \"Times New Roman\",\n",
    "    'y': 1.05\n",
    "}"
   ]
  },
  {
   "cell_type": "code",
   "execution_count": 14,
   "metadata": {
    "scrolled": true
   },
   "outputs": [
    {
     "data": {
      "image/png": "[encoded data removed]",
      "text/plain": [
       "<matplotlib.figure.Figure at 0x21cc9c937f0>"
      ]
     },
     "metadata": {
      "needs_background": "light"
     },
     "output_type": "display_data"
    }
   ],
   "source": [
    "survey_num= 16\n",
    "\n",
    "x= [0,1,2,3,4,5,6,7,8,9,10]\n",
    "y= [0,0,2,1,0,2,3,0,0,0,0]\n",
    "ymax= max(y)\n",
    "\n",
    "fig, ax= plt.subplots()\n",
    "\n",
    "ax.set_xlim(-1,11)\n",
    "plt.axvspan(-1,11,facecolor= '#ebebeb', alpha= .5)\n",
    "\n",
    "ax.bar(x,y, color= \"#2997a6\")\n",
    "\n",
    "ax.set_xticks(x)\n",
    "for label in ax.get_xticklabels():\n",
    "    label.set_fontproperties(font_dict['fontname'])\n",
    "\n",
    "ax.set_yticks(np.arange(0,ymax + 1,step= 1))\n",
    "for label in ax.get_yticklabels():\n",
    "    label.set_fontproperties(font_dict['fontname'])\n",
    "    \n",
    "ax.set_title(\n",
    "    \"Responses to Post-Survey Item #\"+str(survey_num),\n",
    "    fontsize= 15,\n",
    "    loc= font_dict[\"loc\"],\n",
    "    name= font_dict[\"fontname\"],\n",
    "    y= font_dict['y']\n",
    ")\n",
    "\n",
    "ax.set_ylabel(\"# of responses\", name= font_dict[\"fontname\"])\n",
    "ax.set_xlabel(\"Strongly Disagree ---------------------------------> Strongly Agree\", name= font_dict[\"fontname\"])\n",
    "\n",
    "\n",
    "plt.savefig(\n",
    "    os.path.join(plot_path,\"_\".join(f\"Responses to Post-Survey Item #{survey_num}\".split(' '))+\".png\"),\n",
    "    facecolor= \"#d6d6d6\"\n",
    ")"
   ]
  },
  {
   "cell_type": "code",
   "execution_count": 15,
   "metadata": {},
   "outputs": [
    {
     "data": {
      "text/plain": [
       "'Responses_to_Post-Survey_Item_#16.png'"
      ]
     },
     "execution_count": 15,
     "metadata": {},
     "output_type": "execute_result"
    }
   ],
   "source": [
    "\"_\".join(\"Responses to Post-Survey Item #16\".split(' '))+\".png\""
   ]
  },
  {
   "cell_type": "code",
   "execution_count": 16,
   "metadata": {},
   "outputs": [
    {
     "data": {
      "image/png": "[encoded data removed]",
      "text/plain": [
       "<matplotlib.figure.Figure at 0x21cc9d06fd0>"
      ]
     },
     "metadata": {
      "needs_background": "light"
     },
     "output_type": "display_data"
    }
   ],
   "source": [
    "survey_num= 17\n",
    "\n",
    "x= [0,1,2,3,4,5,6,7,8,9,10]\n",
    "y= [0,0,0,1,0,2,1,0,0,1,3]\n",
    "ymax= max(y)\n",
    "\n",
    "fig, ax= plt.subplots()\n",
    "\n",
    "ax.set_xlim(-1,11)\n",
    "plt.axvspan(-1,11,facecolor= '#ebebeb', alpha= .5)\n",
    "\n",
    "ax.bar(x,y, color= \"#db6140\")\n",
    "\n",
    "ax.set_xticks(x)\n",
    "for label in ax.get_xticklabels():\n",
    "    label.set_fontproperties(font_dict['fontname'])\n",
    "\n",
    "ax.set_yticks(np.arange(0,ymax + 1,step= 1))\n",
    "for label in ax.get_yticklabels():\n",
    "    label.set_fontproperties(font_dict['fontname'])\n",
    "\n",
    "ax.set_title(\n",
    "    \"Responses to Post-Survey Item #\"+str(survey_num),\n",
    "    fontsize= 15,\n",
    "    loc= font_dict[\"loc\"],\n",
    "    name= font_dict[\"fontname\"],\n",
    "    y= font_dict['y']\n",
    ")\n",
    "\n",
    "ax.set_ylabel(\"# of responses\", name= font_dict[\"fontname\"])\n",
    "ax.set_xlabel(\"Strongly Disagree ---------------------------------> Strongly Agree\", name= font_dict[\"fontname\"])\n",
    "\n",
    "\n",
    "plt.savefig(\n",
    "    os.path.join(plot_path,\"_\".join(f\"Responses to Post-Survey Item #{survey_num}\".split(' '))+\".png\"),\n",
    "    facecolor= \"#d6d6d6\"\n",
    ")"
   ]
  },
  {
   "cell_type": "code",
   "execution_count": null,
   "metadata": {},
   "outputs": [],
   "source": []
  }
 ],
 "metadata": {
  "kernelspec": {
   "display_name": "Python 3",
   "language": "python",
   "name": "python3"
  },
  "language_info": {
   "codemirror_mode": {
    "name": "ipython",
    "version": 3
   },
   "file_extension": ".py",
   "mimetype": "text/x-python",
   "name": "python",
   "nbconvert_exporter": "python",
   "pygments_lexer": "ipython3",
   "version": "3.6.7"
  }
 },
 "nbformat": 4,
 "nbformat_minor": 2
}
